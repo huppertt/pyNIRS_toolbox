{
 "cells": [
  {
   "cell_type": "code",
   "execution_count": 1,
   "id": "28f5f8c6",
   "metadata": {},
   "outputs": [],
   "source": [
    "import sys\n",
    "sys.path.append('/Users/theodorehuppert/Desktop/NIRS_Python/pyNIRS_toolbox')\n",
    "import pyBrainAnalyzIR\n"
   ]
  },
  {
   "cell_type": "code",
   "execution_count": 2,
   "id": "77b8a610",
   "metadata": {},
   "outputs": [
    {
     "name": "stderr",
     "output_type": "stream",
     "text": [
      " 94%|█████████▍| 15/16 [00:00<00:00, 303.66it/s]\n",
      " 94%|█████████▍| 15/16 [00:00<00:00, 734.89it/s]\n"
     ]
    }
   ],
   "source": [
    "data=pyBrainAnalyzIR.testing.simData.Data()"
   ]
  },
  {
   "cell_type": "code",
   "execution_count": null,
   "id": "07fab6f0",
   "metadata": {},
   "outputs": [],
   "source": [
    "import cedalion\n",
    "import cedalion.models\n",
    "import cedalion.models.glm"
   ]
  },
  {
   "cell_type": "code",
   "execution_count": null,
   "id": "1047fe33",
   "metadata": {},
   "outputs": [],
   "source": [
    "import numpy as np\n",
    "import xarray as xr\n",
    "from cedalion.models.glm.design_matrix import DesignMatrix\n",
    "import cedalion.xrutils as xrutils\n",
    "import pandas as pd\n",
    "\n",
    "import pyBrainAnalyzIR.pipelines.modules.preproccessing as prep\n",
    "import pyBrainAnalyzIR.testing.simEvents \n",
    "\n",
    "import copy\n",
    "noise=pyBrainAnalyzIR.testing.simData.ARnoise()\n",
    "stim=pyBrainAnalyzIR.testing.simEvents.rand_stim_design()\n",
    "\n",
    "rec = copy.deepcopy(noise)\n",
    "rec.stim=stim\n",
    "job = prep.intensity_opticaldensity()\n",
    "job = prep.mbll(job)\n",
    "rec=job.run(rec)\n",
    "units = cedalion.units"
   ]
  },
  {
   "cell_type": "code",
   "execution_count": 11,
   "id": "1c024404",
   "metadata": {},
   "outputs": [],
   "source": [
    "self={}"
   ]
  },
  {
   "cell_type": "code",
   "execution_count": null,
   "id": "df859ae8",
   "metadata": {},
   "outputs": [
    {
     "data": {
      "text/plain": [
       "True"
      ]
     },
     "execution_count": 17,
     "metadata": {},
     "output_type": "execute_result"
    }
   ],
   "source": []
  },
  {
   "cell_type": "code",
   "execution_count": null,
   "id": "da34e446",
   "metadata": {},
   "outputs": [],
   "source": [
    "import cedalion.models.glm as glm\n",
    "ts=rec['conc']\n",
    "stim=rec.stim\n",
    "\n",
    "design_matrix = (\n",
    "    glm.design_matrix.hrf_regressors(\n",
    "        ts, stim, glm.Gamma(tau=0 * units.s, sigma=5 * units.s)\n",
    "    )\n",
    "    & glm.design_matrix.drift_regressors(ts, drift_order=0)\n",
    ")"
   ]
  },
  {
   "cell_type": "code",
   "execution_count": null,
   "id": "48f991f8",
   "metadata": {},
   "outputs": [],
   "source": [
    "results=glm.fit(ts,design_matrix)\n",
    "\n",
    "betas = results.sm.params"
   ]
  },
  {
   "cell_type": "code",
   "execution_count": null,
   "id": "f433fdba",
   "metadata": {},
   "outputs": [],
   "source": [
    "\n",
    "betas = results.sm.params\n",
    "cov = results.sm.cov_params()\n",
    "\n",
    "betas"
   ]
  },
  {
   "cell_type": "code",
   "execution_count": null,
   "id": "5db5c0db",
   "metadata": {},
   "outputs": [],
   "source": [
    "reg_results = xr.DataArray(\n",
    "    np.empty((ts.sizes[\"channel\"], ts.sizes[dim3_name]), dtype=object),\n",
    "    dims=(\"channel\", dim3_name),\n",
    "    coords=xrutils.coords_from_other(ts.isel(time=0), dims=(\"channel\", dim3_name))\n",
    ")\n",
    "\n",
    "x = pd.DataFrame(\n",
    "        group_design_matrix.values, columns=group_design_matrix.regressor.values)\n"
   ]
  },
  {
   "cell_type": "code",
   "execution_count": null,
   "id": "2215d08a",
   "metadata": {},
   "outputs": [],
   "source": [
    "pyBrainAnalyzIR.testing.simData.Data()"
   ]
  },
  {
   "cell_type": "code",
   "execution_count": null,
   "id": "61ef894e",
   "metadata": {},
   "outputs": [],
   "source": []
  }
 ],
 "metadata": {
  "kernelspec": {
   "display_name": ".nirs_env",
   "language": "python",
   "name": "python3"
  },
  "language_info": {
   "codemirror_mode": {
    "name": "ipython",
    "version": 3
   },
   "file_extension": ".py",
   "mimetype": "text/x-python",
   "name": "python",
   "nbconvert_exporter": "python",
   "pygments_lexer": "ipython3",
   "version": "3.13.5"
  }
 },
 "nbformat": 4,
 "nbformat_minor": 5
}
